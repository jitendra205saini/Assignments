{
 "cells": [
  {
   "cell_type": "markdown",
   "metadata": {},
   "source": [
    "# Multi-threading \n"
   ]
  },
  {
   "cell_type": "code",
   "execution_count": 3,
   "metadata": {},
   "outputs": [
    {
     "name": "stdout",
     "output_type": "stream",
     "text": [
      "Number: 1\n",
      "Number: 1\n",
      "Number: 2\n",
      "Number: 2\n",
      "Number: 3Number: 3\n",
      "\n",
      "Number: 4\n",
      "Number: 4\n",
      "Number: 5Number: 5\n",
      "\n",
      "Multi-threading finished\n"
     ]
    }
   ],
   "source": [
    "import threading\n",
    "import time\n",
    "\n",
    "def print_numbers():\n",
    "    for i in range(1, 6):\n",
    "        print(f\"Number: {i}\")\n",
    "        time.sleep(1)\n",
    "\n",
    "\n",
    "thread1 = threading.Thread(target=print_numbers)\n",
    "thread2 = threading.Thread(target=print_numbers)\n",
    "\n",
    "\n",
    "thread1.start()\n",
    "thread2.start()\n",
    "\n",
    "\n",
    "thread1.join()\n",
    "thread2.join()\n",
    "\n",
    "print(\"Multi-threading finished\")\n"
   ]
  },
  {
   "cell_type": "markdown",
   "metadata": {},
   "source": [
    "#  Memory Address\n"
   ]
  },
  {
   "cell_type": "code",
   "execution_count": 4,
   "metadata": {},
   "outputs": [
    {
     "name": "stdout",
     "output_type": "stream",
     "text": [
      "Memory address of x: 140725003634200\n",
      "Memory address of y: 1707599990480\n"
     ]
    }
   ],
   "source": [
    "x = 100\n",
    "y = \"Hello\"\n",
    "\n",
    "print(f\"Memory address of x: {id(x)}\")\n",
    "print(f\"Memory address of y: {id(y)}\")\n"
   ]
  },
  {
   "cell_type": "markdown",
   "metadata": {},
   "source": [
    "# Python Virtual Machine"
   ]
  },
  {
   "cell_type": "code",
   "execution_count": 6,
   "metadata": {},
   "outputs": [
    {
     "name": "stdout",
     "output_type": "stream",
     "text": [
      "Python Virtual Machine\n"
     ]
    }
   ],
   "source": [
    "code = \"print('Python Virtual Machine')\"\n",
    "exec(code)  \n"
   ]
  },
  {
   "cell_type": "markdown",
   "metadata": {},
   "source": [
    "# Modules & Packages "
   ]
  },
  {
   "cell_type": "code",
   "execution_count": 7,
   "metadata": {},
   "outputs": [
    {
     "name": "stdout",
     "output_type": "stream",
     "text": [
      "Hello, Jitendra!\n"
     ]
    }
   ],
   "source": [
    "# mymodule.py \n",
    "def greet(name):\n",
    "    return f\"Hello, {name}!\"\n",
    "\n",
    "# main.py \n",
    "import mymodule  \n",
    "\n",
    "print(mymodule.greet(\"Jitendra\"))\n",
    "\n"
   ]
  },
  {
   "cell_type": "markdown",
   "metadata": {},
   "source": [
    "# Concurrency & Parallelism \n"
   ]
  },
  {
   "cell_type": "code",
   "execution_count": 8,
   "metadata": {},
   "outputs": [
    {
     "name": "stdout",
     "output_type": "stream",
     "text": [
      "Task One started\n",
      "Task Two started\n",
      "Task One finished\n",
      "Task Two finished\n",
      "Concurrency & Parallelism example finished!\n"
     ]
    }
   ],
   "source": [
    "import threading\n",
    "import time\n",
    "\n",
    "def task(name):\n",
    "    print(f\"Task {name} started\")\n",
    "    time.sleep(2)\n",
    "    print(f\"Task {name} finished\")\n",
    "\n",
    "\n",
    "thread1 = threading.Thread(target=task, args=(\"One\",))\n",
    "thread2 = threading.Thread(target=task, args=(\"Two\",))\n",
    "\n",
    "thread1.start()\n",
    "thread2.start()\n",
    "\n",
    "thread1.join()\n",
    "thread2.join()\n",
    "\n",
    "print(\"Concurrency & Parallelism example finished!\")\n"
   ]
  },
  {
   "cell_type": "markdown",
   "metadata": {},
   "source": [
    "# Context Switching\n"
   ]
  },
  {
   "cell_type": "code",
   "execution_count": 9,
   "metadata": {},
   "outputs": [
    {
     "name": "stdout",
     "output_type": "stream",
     "text": [
      "Task 1 running\n",
      "Task 2 running\n",
      "Task 1 runningTask 2 running\n",
      "\n",
      "Task 2 running\n",
      "Task 1 running\n",
      "Context Switching example finished!\n"
     ]
    }
   ],
   "source": [
    "import threading\n",
    "import time\n",
    "\n",
    "def task1():\n",
    "    for i in range(3):\n",
    "        print(\"Task 1 running\")\n",
    "        time.sleep(1)\n",
    "\n",
    "def task2():\n",
    "    for i in range(3):\n",
    "        print(\"Task 2 running\")\n",
    "        time.sleep(1)\n",
    "\n",
    "t1 = threading.Thread(target=task1)\n",
    "t2 = threading.Thread(target=task2)\n",
    "\n",
    "t1.start()\n",
    "t2.start()\n",
    "\n",
    "t1.join()\n",
    "t2.join()\n",
    "\n",
    "print(\"Context Switching example finished!\")\n"
   ]
  },
  {
   "cell_type": "markdown",
   "metadata": {},
   "source": [
    "# Memory Isolation"
   ]
  },
  {
   "cell_type": "code",
   "execution_count": 10,
   "metadata": {},
   "outputs": [
    {
     "name": "stdout",
     "output_type": "stream",
     "text": [
      "Memory Isolation example finished!\n"
     ]
    }
   ],
   "source": [
    "import multiprocessing\n",
    "\n",
    "def process_task(value):\n",
    "    print(f\"Process received value: {value}\")\n",
    "\n",
    "if __name__ == \"__main__\":\n",
    "    value = 42\n",
    "    process = multiprocessing.Process(target=process_task, args=(value,))\n",
    "    process.start()\n",
    "    process.join()\n",
    "\n",
    "    print(\"Memory Isolation example finished!\")\n"
   ]
  }
 ],
 "metadata": {
  "kernelspec": {
   "display_name": "base",
   "language": "python",
   "name": "python3"
  },
  "language_info": {
   "codemirror_mode": {
    "name": "ipython",
    "version": 3
   },
   "file_extension": ".py",
   "mimetype": "text/x-python",
   "name": "python",
   "nbconvert_exporter": "python",
   "pygments_lexer": "ipython3",
   "version": "3.12.4"
  }
 },
 "nbformat": 4,
 "nbformat_minor": 2
}
