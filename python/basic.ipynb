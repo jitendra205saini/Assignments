{
 "cells": [
  {
   "cell_type": "code",
   "execution_count": 25,
   "metadata": {},
   "outputs": [],
   "source": [
    "# print = 34\n",
    "# print(print)"
   ]
  },
  {
   "cell_type": "code",
   "execution_count": 26,
   "metadata": {},
   "outputs": [],
   "source": [
    "a ,b ,c ,d =(1,2,3,5)"
   ]
  },
  {
   "cell_type": "code",
   "execution_count": 27,
   "metadata": {},
   "outputs": [],
   "source": [
    "\n",
    "student = {'name':'arya collage','branch':'Ai'}\n",
    "\n"
   ]
  },
  {
   "cell_type": "code",
   "execution_count": 28,
   "metadata": {},
   "outputs": [
    {
     "data": {
      "text/plain": [
       "dict_values(['arya collage', 'Ai'])"
      ]
     },
     "execution_count": 28,
     "metadata": {},
     "output_type": "execute_result"
    }
   ],
   "source": [
    "student.values()\n"
   ]
  },
  {
   "cell_type": "code",
   "execution_count": 29,
   "metadata": {},
   "outputs": [
    {
     "data": {
      "text/plain": [
       "dict_keys(['name', 'branch'])"
      ]
     },
     "execution_count": 29,
     "metadata": {},
     "output_type": "execute_result"
    }
   ],
   "source": [
    "student.keys()"
   ]
  },
  {
   "cell_type": "code",
   "execution_count": 30,
   "metadata": {},
   "outputs": [],
   "source": [
    "student.update()"
   ]
  },
  {
   "cell_type": "code",
   "execution_count": 31,
   "metadata": {},
   "outputs": [],
   "source": [
    "a = 3\n",
    "b = 5"
   ]
  },
  {
   "cell_type": "code",
   "execution_count": 32,
   "metadata": {},
   "outputs": [
    {
     "name": "stdout",
     "output_type": "stream",
     "text": [
      "False\n"
     ]
    }
   ],
   "source": [
    "print(a==b)"
   ]
  },
  {
   "cell_type": "code",
   "execution_count": 33,
   "metadata": {},
   "outputs": [
    {
     "name": "stdout",
     "output_type": "stream",
     "text": [
      "5\n"
     ]
    }
   ],
   "source": [
    "x = 5\n",
    "print(x)"
   ]
  },
  {
   "cell_type": "code",
   "execution_count": 34,
   "metadata": {},
   "outputs": [
    {
     "name": "stdout",
     "output_type": "stream",
     "text": [
      "8\n",
      "5\n",
      "15\n",
      "5.0\n",
      "2.0\n",
      "0.0\n",
      "0.0\n"
     ]
    }
   ],
   "source": [
    "x = x+3\n",
    "print(x)\n",
    "x= x-3\n",
    "print(x)\n",
    "x=x*3\n",
    "print(x)\n",
    "x = x/3\n",
    "print(x)\n",
    "x= x%3\n",
    "print(x)\n",
    "x=x//3\n",
    "print(x)\n",
    "x=x**3\n",
    "print(x)"
   ]
  },
  {
   "cell_type": "code",
   "execution_count": 35,
   "metadata": {},
   "outputs": [],
   "source": [
    "x=8\n",
    "y=5"
   ]
  },
  {
   "cell_type": "code",
   "execution_count": 36,
   "metadata": {},
   "outputs": [
    {
     "name": "stdout",
     "output_type": "stream",
     "text": [
      "0\n",
      "13\n",
      "13\n"
     ]
    }
   ],
   "source": [
    "print(x&y)\n",
    "\n",
    "print(x|y)\n",
    "print(x^y)"
   ]
  },
  {
   "cell_type": "markdown",
   "metadata": {},
   "source": [
    "### membership\n",
    "\n"
   ]
  },
  {
   "cell_type": "code",
   "execution_count": 37,
   "metadata": {},
   "outputs": [
    {
     "name": "stdout",
     "output_type": "stream",
     "text": [
      "True\n"
     ]
    }
   ],
   "source": [
    "lst=[1,2,3,4,5,6,]\n",
    "print(2 in lst)\n",
    "\n"
   ]
  },
  {
   "cell_type": "code",
   "execution_count": 38,
   "metadata": {},
   "outputs": [
    {
     "name": "stdout",
     "output_type": "stream",
     "text": [
      "False\n"
     ]
    }
   ],
   "source": [
    "print(2 not in lst)"
   ]
  },
  {
   "cell_type": "code",
   "execution_count": 39,
   "metadata": {},
   "outputs": [
    {
     "name": "stdout",
     "output_type": "stream",
     "text": [
      "jonny\n"
     ]
    }
   ],
   "source": [
    "age = 14\n",
    "if(age>18):\n",
    "    print(\"pola\")\n",
    "else:\n",
    "    print(\"jonny\")    "
   ]
  },
  {
   "cell_type": "markdown",
   "metadata": {},
   "source": [
    "### even and odd\n",
    "\n"
   ]
  },
  {
   "cell_type": "code",
   "execution_count": 40,
   "metadata": {},
   "outputs": [
    {
     "name": "stdout",
     "output_type": "stream",
     "text": [
      "even\n"
     ]
    }
   ],
   "source": [
    "user = 6\n",
    "\n",
    "if(user%2 == 0):\n",
    "    print(\"even\")\n",
    "else:\n",
    "    print(\"odd\")\n",
    " "
   ]
  },
  {
   "cell_type": "code",
   "execution_count": 41,
   "metadata": {},
   "outputs": [
    {
     "name": "stdout",
     "output_type": "stream",
     "text": [
      "0\n",
      "1\n",
      "2\n",
      "3\n",
      "4\n",
      "5\n",
      "6\n",
      "7\n",
      "8\n",
      "9\n"
     ]
    }
   ],
   "source": [
    "for i in range(10):\n",
    "    print(i)\n",
    "    "
   ]
  },
  {
   "cell_type": "code",
   "execution_count": 42,
   "metadata": {},
   "outputs": [
    {
     "name": "stdout",
     "output_type": "stream",
     "text": [
      "1\n",
      "2\n",
      "3\n",
      "4\n",
      "58\n",
      "9\n",
      "7\n"
     ]
    }
   ],
   "source": [
    "a=[1,2,3,4,58,9,7]\n",
    "for n in a:\n",
    "    print(n)\n"
   ]
  },
  {
   "cell_type": "code",
   "execution_count": 43,
   "metadata": {},
   "outputs": [
    {
     "name": "stdout",
     "output_type": "stream",
     "text": [
      "*\n",
      "*\n",
      "*\n",
      "*\n",
      "*\n",
      "\n",
      "*\n",
      "*\n",
      "*\n",
      "*\n",
      "\n",
      "\n",
      "*\n",
      "*\n",
      "*\n",
      "\n",
      "\n",
      "\n",
      "*\n",
      "*\n",
      "\n",
      "\n",
      "\n",
      "\n",
      "*\n",
      "\n",
      "\n"
     ]
    }
   ],
   "source": [
    "for i in range(5):\n",
    "       for j in range(5):\n",
    "                        \n",
    "                          if(i<=j):\n",
    "                            print(\"*\")\n",
    "                          else:\n",
    "                            print(\"\")\n",
    "\n",
    "print(\"\\n\")                            "
   ]
  },
  {
   "cell_type": "markdown",
   "metadata": {},
   "source": [
    "# lemda function"
   ]
  },
  {
   "cell_type": "code",
   "execution_count": 44,
   "metadata": {},
   "outputs": [
    {
     "name": "stdout",
     "output_type": "stream",
     "text": [
      "3\n"
     ]
    }
   ],
   "source": [
    "add = lambda x, y:x+y\n",
    "print(add(1,2))"
   ]
  },
  {
   "cell_type": "code",
   "execution_count": 45,
   "metadata": {},
   "outputs": [],
   "source": [
    "class Arya:\n",
    "     a= 10\n",
    "     "
   ]
  },
  {
   "cell_type": "code",
   "execution_count": 46,
   "metadata": {},
   "outputs": [],
   "source": [
    "class Arya:\n",
    "    def had():\n",
    "        print(\"had\")\n",
    "        a1 = Arya.had()\n",
    "        print(a1)"
   ]
  },
  {
   "cell_type": "code",
   "execution_count": 47,
   "metadata": {},
   "outputs": [
    {
     "ename": "NameError",
     "evalue": "name 'def__init__' is not defined",
     "output_type": "error",
     "traceback": [
      "\u001b[1;31m---------------------------------------------------------------------------\u001b[0m",
      "\u001b[1;31mNameError\u001b[0m                                 Traceback (most recent call last)",
      "Cell \u001b[1;32mIn[47], line 1\u001b[0m\n\u001b[1;32m----> 1\u001b[0m \u001b[38;5;28;43;01mclass\u001b[39;49;00m\u001b[43m \u001b[49m\u001b[38;5;21;43;01mArya\u001b[39;49;00m\u001b[43m:\u001b[49m\n\u001b[0;32m      2\u001b[0m \u001b[43m    \u001b[49m\u001b[43mdef__init__\u001b[49m\u001b[43m(\u001b[49m\u001b[38;5;28;43mself\u001b[39;49m\u001b[43m)\u001b[49m\n",
      "Cell \u001b[1;32mIn[47], line 2\u001b[0m, in \u001b[0;36mArya\u001b[1;34m()\u001b[0m\n\u001b[0;32m      1\u001b[0m \u001b[38;5;28;01mclass\u001b[39;00m \u001b[38;5;21;01mArya\u001b[39;00m:\n\u001b[1;32m----> 2\u001b[0m     \u001b[43mdef__init__\u001b[49m(\u001b[38;5;28mself\u001b[39m)\n",
      "\u001b[1;31mNameError\u001b[0m: name 'def__init__' is not defined"
     ]
    }
   ],
   "source": [
    "class Arya:\n",
    "    def__init__(self)"
   ]
  },
  {
   "cell_type": "markdown",
   "metadata": {},
   "source": [
    "# 1. Singly Linked List in Python"
   ]
  },
  {
   "cell_type": "code",
   "execution_count": null,
   "metadata": {},
   "outputs": [
    {
     "name": "stdout",
     "output_type": "stream",
     "text": [
      "10 → 20 → 30 → None\n",
      "10 → 30 → None\n"
     ]
    }
   ],
   "source": [
    "class Node:\n",
    "    \"\"\"A node contains data and a pointer to the next node.\"\"\"\n",
    "    def __init__(self, data):\n",
    "        self.data = data\n",
    "        self.next = None\n",
    "\n",
    "class LinkedList:\n",
    "    \"\"\"A singly linked list.\"\"\"\n",
    "    def __init__(self):\n",
    "        self.head = None\n",
    "\n",
    "    def append(self, data):\n",
    "        \"\"\"Insert a new node at the end.\"\"\"\n",
    "        new_node = Node(data)\n",
    "        if not self.head:\n",
    "            self.head = new_node\n",
    "            return\n",
    "        last = self.head\n",
    "        while last.next:\n",
    "            last = last.next\n",
    "        last.next = new_node\n",
    "\n",
    "    def display(self):\n",
    "        \"\"\"Print the linked list.\"\"\"\n",
    "        current = self.head\n",
    "        while current:\n",
    "            print(current.data, end=\" → \")\n",
    "            current = current.next\n",
    "        print(\"None\")\n",
    "\n",
    "    def delete(self, key):\n",
    "        \"\"\"Delete a node by value.\"\"\"\n",
    "        current = self.head\n",
    "\n",
    "        # If the node to be deleted is the head\n",
    "        if current and current.data == key:\n",
    "            self.head = current.next\n",
    "            current = None\n",
    "            return\n",
    "\n",
    "        # Search for the key\n",
    "        prev = None\n",
    "        while current and current.data != key:\n",
    "            prev = current\n",
    "            current = current.next\n",
    "        \n",
    "        # If key was not found\n",
    "        if not current:\n",
    "            return\n",
    "\n",
    "        prev.next = current.next\n",
    "        current = None\n",
    "\n",
    "# Example usage:\n",
    "ll = LinkedList()\n",
    "ll.append(10)\n",
    "ll.append(20)\n",
    "ll.append(30)\n",
    "ll.display()  # Output: 10 → 20 → 30 → None\n",
    "ll.delete(20)\n",
    "ll.display()  # Output: 10 → 30 → None\n"
   ]
  },
  {
   "cell_type": "markdown",
   "metadata": {},
   "source": [
    "# 2. Doubly Linked List in Python"
   ]
  },
  {
   "cell_type": "code",
   "execution_count": null,
   "metadata": {},
   "outputs": [
    {
     "name": "stdout",
     "output_type": "stream",
     "text": [
      "10 ⇄ 20 ⇄ 30 ⇄ None\n"
     ]
    }
   ],
   "source": [
    "class Node:\n",
    "    \"\"\"A node contains data, a pointer to the next node, and a pointer to the previous node.\"\"\"\n",
    "    def __init__(self, data):\n",
    "        self.data = data\n",
    "        self.next = None\n",
    "        self.prev = None\n",
    "\n",
    "class DoublyLinkedList:\n",
    "    \"\"\"A doubly linked list.\"\"\"\n",
    "    def __init__(self):\n",
    "        self.head = None\n",
    "\n",
    "    def append(self, data):\n",
    "        \"\"\"Insert a new node at the end.\"\"\"\n",
    "        new_node = Node(data)\n",
    "        if not self.head:\n",
    "            self.head = new_node\n",
    "            return\n",
    "        last = self.head\n",
    "        while last.next:\n",
    "            last = last.next\n",
    "        last.next = new_node\n",
    "        new_node.prev = last\n",
    "\n",
    "    def display(self):\n",
    "        \"\"\"Print the linked list forward.\"\"\"\n",
    "        current = self.head\n",
    "        while current:\n",
    "            print(current.data, end=\" ⇄ \")\n",
    "            current = current.next\n",
    "        print(\"None\")\n",
    "\n",
    "# Example usage:\n",
    "dll = DoublyLinkedList()\n",
    "dll.append(10)\n",
    "dll.append(20)\n",
    "dll.append(30)\n",
    "dll.display()  # Output: 10 ⇄ 20 ⇄ 30 ⇄ None\n"
   ]
  },
  {
   "cell_type": "markdown",
   "metadata": {},
   "source": [
    "# 3. Circular Linked List in Python"
   ]
  },
  {
   "cell_type": "code",
   "execution_count": null,
   "metadata": {},
   "outputs": [
    {
     "name": "stdout",
     "output_type": "stream",
     "text": [
      "10 → 20 → 30 → (Back to head)\n"
     ]
    }
   ],
   "source": [
    "class Node:\n",
    "    \"\"\"A node contains data and a pointer to the next node.\"\"\"\n",
    "    def __init__(self, data):\n",
    "        self.data = data\n",
    "        self.next = None\n",
    "\n",
    "class CircularLinkedList:\n",
    "    \"\"\"A circular linked list where the last node points to the first node.\"\"\"\n",
    "    def __init__(self):\n",
    "        self.head = None\n",
    "\n",
    "    def append(self, data):\n",
    "        \"\"\"Insert a new node at the end.\"\"\"\n",
    "        new_node = Node(data)\n",
    "        if not self.head:\n",
    "            self.head = new_node\n",
    "            new_node.next = self.head\n",
    "            return\n",
    "        temp = self.head\n",
    "        while temp.next != self.head:\n",
    "            temp = temp.next\n",
    "        temp.next = new_node\n",
    "        new_node.next = self.head\n",
    "\n",
    "    def display(self):\n",
    "        \"\"\"Print the circular linked list.\"\"\"\n",
    "        if not self.head:\n",
    "            return\n",
    "        temp = self.head\n",
    "        while True:\n",
    "            print(temp.data, end=\" → \")\n",
    "            temp = temp.next\n",
    "            if temp == self.head:\n",
    "                break\n",
    "        print(\"(Back to head)\")\n",
    "\n",
    "# Example usage:\n",
    "cll = CircularLinkedList()\n",
    "cll.append(10)\n",
    "cll.append(20)\n",
    "cll.append(30)\n",
    "cll.display()  # Output: 10 → 20 → 30 → (Back to head)\n"
   ]
  },
  {
   "cell_type": "code",
   "execution_count": null,
   "metadata": {},
   "outputs": [
    {
     "name": "stdout",
     "output_type": "stream",
     "text": [
      "Arya College\n",
      "Jaipur\n",
      "Dr.Arvind\n"
     ]
    }
   ],
   "source": [
    "class Arya:\n",
    "    def __init__(self, name, location, director):\n",
    "      \n",
    "        self.name = name\n",
    "        self.location = location\n",
    "        self.director = director\n",
    "\n",
    "\n",
    "obj = Arya(\"Arya College\", \"Jaipur\", \"Dr.Arvind\")\n",
    "\n",
    "\n",
    "print(obj.name)\n",
    "print(obj.location)\n",
    "print(obj.director)\n"
   ]
  },
  {
   "cell_type": "code",
   "execution_count": null,
   "metadata": {},
   "outputs": [
    {
     "name": "stdout",
     "output_type": "stream",
     "text": [
      "College Name: Arya College\n",
      "Location: Jaipur\n",
      "Director: Dr.Arvind\n"
     ]
    }
   ],
   "source": [
    "class Arya:\n",
    "    def __init__(self, name, location, director):\n",
    "        \n",
    "        self.name = name\n",
    "        self.location = location\n",
    "        self.director = director\n",
    "\n",
    "    def display(self):\n",
    "       \n",
    "        print(f\"College Name: {self.name}\")\n",
    "        print(f\"Location: {self.location}\")\n",
    "        print(f\"Director: {self.director}\")\n",
    "\n",
    "obj = Arya(\"Arya College\", \"Jaipur\", \"Dr.Arvind\")\n",
    "\n",
    "obj.display()\n"
   ]
  },
  {
   "cell_type": "markdown",
   "metadata": {},
   "source": [
    "# OOPS\n",
    "![Alt text](https://media.geeksforgeeks.org/wp-content/uploads/20230818181616/Types-of-OOPS-2.gif)"
   ]
  },
  {
   "cell_type": "markdown",
   "metadata": {},
   "source": [
    "## (A) Object"
   ]
  },
  {
   "cell_type": "code",
   "execution_count": null,
   "metadata": {},
   "outputs": [
    {
     "name": "stdout",
     "output_type": "stream",
     "text": [
      "Car Brand: Toyota, Model: Corolla\n",
      "Car Brand: Honda, Model: Civic\n"
     ]
    }
   ],
   "source": [
    "class Car:\n",
    "    def __init__(self, brand, model):\n",
    "        self.brand = brand\n",
    "        self.model = model\n",
    "\n",
    "    def show_details(self):\n",
    "        print(f\"Car Brand: {self.brand}, Model: {self.model}\")\n",
    "        \n",
    "car1 = Car(\"Toyota\", \"Corolla\") \n",
    "car2 = Car(\"Honda\", \"Civic\") \n",
    "\n",
    "car1.show_details()  \n",
    "car2.show_details() \n"
   ]
  },
  {
   "cell_type": "markdown",
   "metadata": {},
   "source": [
    "##  Types of Objects in Python"
   ]
  },
  {
   "cell_type": "markdown",
   "metadata": {},
   "source": [
    "### 1️⃣ Instance Object"
   ]
  },
  {
   "cell_type": "code",
   "execution_count": 50,
   "metadata": {},
   "outputs": [],
   "source": [
    "car1 = Car(\"BMW\", \"X5\")  \n"
   ]
  },
  {
   "cell_type": "markdown",
   "metadata": {},
   "source": [
    "### 2️⃣ Class Object"
   ]
  },
  {
   "cell_type": "code",
   "execution_count": 51,
   "metadata": {},
   "outputs": [
    {
     "name": "stdout",
     "output_type": "stream",
     "text": [
      "I am a class variable\n"
     ]
    }
   ],
   "source": [
    "class Example:\n",
    "    class_var = \"I am a class variable\"\n",
    "\n",
    "print(Example.class_var)  \n"
   ]
  },
  {
   "cell_type": "markdown",
   "metadata": {},
   "source": [
    "### 3️⃣ Mutable Object"
   ]
  },
  {
   "cell_type": "code",
   "execution_count": 52,
   "metadata": {},
   "outputs": [
    {
     "name": "stdout",
     "output_type": "stream",
     "text": [
      "[1, 2, 3, 4]\n"
     ]
    }
   ],
   "source": [
    "lst = [1, 2, 3]\n",
    "lst.append(4)  \n",
    "print(lst) \n"
   ]
  },
  {
   "cell_type": "markdown",
   "metadata": {},
   "source": [
    "### 4️⃣ Immutable Object"
   ]
  },
  {
   "cell_type": "code",
   "execution_count": 54,
   "metadata": {},
   "outputs": [],
   "source": [
    "name = \"Jitendra\"\n",
    "\n"
   ]
  },
  {
   "cell_type": "markdown",
   "metadata": {},
   "source": [
    "## (B) Encapsolution"
   ]
  },
  {
   "cell_type": "markdown",
   "metadata": {},
   "source": [
    "````\n",
    "1. Encapsulation ka main fayda:\n",
    "\n",
    "    Direct access ko limit karta hai\n",
    "    Sensitive data ko hide karta hai\n",
    "    Getter/Setter functions se controlled access deta hai\n",
    "\n",
    "````"
   ]
  },
  {
   "cell_type": "markdown",
   "metadata": {},
   "source": [
    "####  Example of Encapsulation"
   ]
  },
  {
   "cell_type": "markdown",
   "metadata": {},
   "source": [
    "``` Public, Protected, and Private Variables ```"
   ]
  },
  {
   "cell_type": "code",
   "execution_count": null,
   "metadata": {},
   "outputs": [
    {
     "name": "stdout",
     "output_type": "stream",
     "text": [
      "Jitendra\n",
      "Saving\n",
      "5000\n"
     ]
    }
   ],
   "source": [
    "class BankAccount:\n",
    "    def __init__(self, name, balance):\n",
    "        self.name = name          # Public variable\n",
    "        self._account_type = \"Saving\"  # Protected variable\n",
    "        self.__balance = balance  # Private variable\n",
    "\n",
    "    def deposit(self, amount):\n",
    "        self.__balance += amount\n",
    "\n",
    "    def get_balance(self):\n",
    "        return self.__balance  # Getter method for private variable\n",
    "\n",
    "# Object creation\n",
    "account = BankAccount(\"Jitendra\", 5000)\n",
    "\n",
    "# Public variable (Accessible)\n",
    "print(account.name)  # Output: Jitendra\n",
    "\n",
    "# Protected variable (Accessible but should be used carefully)\n",
    "print(account._account_type)  # Output: Saving\n",
    "\n",
    "# Private variable (Not directly accessible)\n",
    "# print(account.__balance)  # Error: AttributeError\n",
    "\n",
    "# Accessing private variable using method\n",
    "print(account.get_balance())  # Output: 5000\n"
   ]
  },
  {
   "cell_type": "markdown",
   "metadata": {},
   "source": [
    "#### Encapsulation Using Getter and Setter Methods"
   ]
  },
  {
   "cell_type": "code",
   "execution_count": 56,
   "metadata": {},
   "outputs": [
    {
     "name": "stdout",
     "output_type": "stream",
     "text": [
      "20\n",
      "25\n",
      "Invalid Age\n"
     ]
    }
   ],
   "source": [
    "class Student:\n",
    "    def __init__(self, name, age):\n",
    "        self.name = name\n",
    "        self.__age = age  # Private variable\n",
    "\n",
    "    # Getter method\n",
    "    def get_age(self):\n",
    "        return self.__age\n",
    "\n",
    "    # Setter method\n",
    "    def set_age(self, new_age):\n",
    "        if new_age > 0:\n",
    "            self.__age = new_age\n",
    "        else:\n",
    "            print(\"Invalid Age\")\n",
    "\n",
    "# Object creation\n",
    "student = Student(\"Amit\", 20)\n",
    "\n",
    "# Accessing private variable using getter\n",
    "print(student.get_age())  # Output: 20\n",
    "\n",
    "# Modifying private variable using setter\n",
    "student.set_age(25)\n",
    "print(student.get_age())  # Output: 25\n",
    "\n",
    "# Trying to set invalid age\n",
    "student.set_age(-5)  # Output: Invalid Age\n"
   ]
  },
  {
   "cell_type": "markdown",
   "metadata": {},
   "source": [
    "## (C) Polymorphism"
   ]
  },
  {
   "cell_type": "markdown",
   "metadata": {},
   "source": [
    "## (D) Inheritance"
   ]
  },
  {
   "cell_type": "markdown",
   "metadata": {},
   "source": [
    "###  1. Single Inheritance\n",
    "![Alt Text](https://media.geeksforgeeks.org/wp-content/uploads/20200108135809/inheritance11.png)\n"
   ]
  },
  {
   "cell_type": "code",
   "execution_count": null,
   "metadata": {},
   "outputs": [
    {
     "name": "stdout",
     "output_type": "stream",
     "text": [
      "This is the Parent class\n",
      "This is the Child class\n"
     ]
    }
   ],
   "source": [
    "class Parent:\n",
    "    def show(self):\n",
    "        print(\"This is the Parent class\")\n",
    "\n",
    "class Child(Parent):\n",
    "    def display(self):\n",
    "        print(\"This is the Child class\")\n",
    "\n",
    "obj = Child()\n",
    "obj.show()  \n",
    "obj.display()\n"
   ]
  },
  {
   "cell_type": "markdown",
   "metadata": {},
   "source": [
    "# Multiple Inheritance\n",
    "![Alt Text](https://media.geeksforgeeks.org/wp-content/uploads/20200108144424/multiple-inheritance1.png)\n",
    "\n"
   ]
  },
  {
   "cell_type": "code",
   "execution_count": null,
   "metadata": {},
   "outputs": [
    {
     "name": "stdout",
     "output_type": "stream",
     "text": [
      "This is Parent1\n",
      "This is Parent2\n",
      "This is Child class\n"
     ]
    }
   ],
   "source": [
    "class Parent1:\n",
    "    def method1(self):\n",
    "        print(\"This is Parent1\")\n",
    "\n",
    "class Parent2:\n",
    "    def method2(self):\n",
    "        print(\"This is Parent2\")\n",
    "\n",
    "class Child(Parent1, Parent2):\n",
    "    def method3(self):\n",
    "        print(\"This is Child class\")\n",
    "\n",
    "obj = Child()\n",
    "obj.method1()\n",
    "obj.method2()\n",
    "obj.method3()\n"
   ]
  },
  {
   "cell_type": "markdown",
   "metadata": {},
   "source": [
    "# 3. Multilevel Inheritance\n",
    "![Alt text](https://media.geeksforgeeks.org/wp-content/uploads/20200108144705/Multilevel-inheritance1.png)"
   ]
  },
  {
   "cell_type": "code",
   "execution_count": null,
   "metadata": {},
   "outputs": [
    {
     "name": "stdout",
     "output_type": "stream",
     "text": [
      "This is Grandparent class\n",
      "This is Parent class\n",
      "This is Child class\n"
     ]
    }
   ],
   "source": [
    "class Grandparent:\n",
    "    def grandparent_method(self):\n",
    "        print(\"This is Grandparent class\")\n",
    "\n",
    "class Parent(Grandparent):\n",
    "    def parent_method(self):\n",
    "        print(\"This is Parent class\")\n",
    "\n",
    "class Child(Parent):\n",
    "    def child_method(self):\n",
    "        print(\"This is Child class\")\n",
    "\n",
    "obj = Child()\n",
    "obj.grandparent_method()\n",
    "obj.parent_method()\n",
    "obj.child_method()\n"
   ]
  },
  {
   "cell_type": "markdown",
   "metadata": {},
   "source": [
    "# 4. Hierarchical Inheritance\n",
    "![Alt text](https://media.geeksforgeeks.org/wp-content/uploads/20200108144949/Hierarchical-inheritance1.png)"
   ]
  },
  {
   "cell_type": "code",
   "execution_count": null,
   "metadata": {},
   "outputs": [
    {
     "name": "stdout",
     "output_type": "stream",
     "text": [
      "This is Parent class\n",
      "This is Child1 class\n",
      "This is Parent class\n",
      "This is Child2 class\n"
     ]
    }
   ],
   "source": [
    "class Parent:\n",
    "    def parent_method(self):\n",
    "        print(\"This is Parent class\")\n",
    "\n",
    "class Child1(Parent):\n",
    "    def child1_method(self):\n",
    "        print(\"This is Child1 class\")\n",
    "\n",
    "class Child2(Parent):\n",
    "    def child2_method(self):\n",
    "        print(\"This is Child2 class\")\n",
    "\n",
    "obj1 = Child1()\n",
    "obj2 = Child2()\n",
    "\n",
    "obj1.parent_method()\n",
    "obj1.child1_method()\n",
    "\n",
    "obj2.parent_method()\n",
    "obj2.child2_method()\n"
   ]
  },
  {
   "cell_type": "markdown",
   "metadata": {},
   "source": [
    "# 5. Hybrid Inheritance\n",
    "![Alt text](https://media.geeksforgeeks.org/wp-content/uploads/Hybrid-Inheritance.png)"
   ]
  },
  {
   "cell_type": "code",
   "execution_count": null,
   "metadata": {},
   "outputs": [
    {
     "name": "stdout",
     "output_type": "stream",
     "text": [
      "This is class A\n",
      "This is class B\n",
      "This is class C\n",
      "This is class D\n"
     ]
    }
   ],
   "source": [
    "class A:\n",
    "    def methodA(self):\n",
    "        print(\"This is class A\")\n",
    "\n",
    "class B(A):\n",
    "    def methodB(self):\n",
    "        print(\"This is class B\")\n",
    "\n",
    "class C(A):\n",
    "    def methodC(self):\n",
    "        print(\"This is class C\")\n",
    "\n",
    "class D(B, C):\n",
    "    def methodD(self):\n",
    "        print(\"This is class D\")\n",
    "\n",
    "obj = D()\n",
    "obj.methodA()\n",
    "obj.methodB()\n",
    "obj.methodC()\n",
    "obj.methodD()\n"
   ]
  }
 ],
 "metadata": {
  "kernelspec": {
   "display_name": "base",
   "language": "python",
   "name": "python3"
  },
  "language_info": {
   "codemirror_mode": {
    "name": "ipython",
    "version": 3
   },
   "file_extension": ".py",
   "mimetype": "text/x-python",
   "name": "python",
   "nbconvert_exporter": "python",
   "pygments_lexer": "ipython3",
   "version": "3.12.4"
  }
 },
 "nbformat": 4,
 "nbformat_minor": 2
}
