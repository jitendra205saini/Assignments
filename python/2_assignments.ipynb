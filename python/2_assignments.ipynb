{
 "cells": [
  {
   "cell_type": "markdown",
   "id": "38ee259a",
   "metadata": {},
   "source": [
<<<<<<< HEAD
    "# 1. Multi-threading \n"
=======
    "### 1. Pascal’s Triangle"
   ]
  },
  {
   "cell_type": "markdown",
   "id": "bd854e47",
   "metadata": {},
   "source": [
    "Write a function `pascals_triangle(rows)` that prints the first rows of Pascal’s Triangle using nested for loops."
>>>>>>> 6d26263 (Updated assignment files)
   ]
  },
  {
   "cell_type": "code",
   "execution_count": 3,
   "id": "adab2452",
   "metadata": {},
   "outputs": [
    {
     "name": "stdout",
     "output_type": "stream",
     "text": [
      "     1 \n",
      "    1 1 \n",
      "   1 2 1 \n",
      "  1 3 3 1 \n",
      " 1 4 6 4 1 \n"
     ]
    }
   ],
   "source": [
    "n = 5\n",
    "\n",
<<<<<<< HEAD
    "def print_numbers():\n",
    "    for i in range(1, 6):\n",
    "        print(f\"Number: {i}\")\n",
    "        time.sleep(1)\n",
    "\n",
    "\n",
    "thread1 = threading.Thread(target=print_numbers)\n",
    "thread2 = threading.Thread(target=print_numbers)\n",
    "\n",
    "\n",
    "thread1.start()\n",
    "thread2.start()\n",
    "\n",
    "\n",
    "thread1.join()\n",
    "thread2.join()\n",
    "\n",
    "print(\"Multi-threading finished\")\n"
   ]
  },
  {
   "cell_type": "markdown",
   "metadata": {},
   "source": [
    "#  2. Memory Address\n"
   ]
  },
  {
   "cell_type": "code",
   "execution_count": 4,
   "metadata": {},
   "outputs": [
    {
     "name": "stdout",
     "output_type": "stream",
     "text": [
      "Memory address of x: 140725003634200\n",
      "Memory address of y: 1707599990480\n"
     ]
    }
   ],
   "source": [
    "x = 100\n",
    "y = \"Hello\"\n",
    "\n",
    "print(f\"Memory address of x: {id(x)}\")\n",
    "print(f\"Memory address of y: {id(y)}\")\n"
   ]
  },
  {
   "cell_type": "markdown",
   "metadata": {},
   "source": [
    "# 3. Python Virtual Machine"
   ]
  },
  {
   "cell_type": "code",
   "execution_count": 6,
   "metadata": {},
   "outputs": [
    {
     "name": "stdout",
     "output_type": "stream",
     "text": [
      "Python Virtual Machine\n"
     ]
    }
   ],
   "source": [
    "code = \"print('Python Virtual Machine')\"\n",
    "exec(code)  \n"
   ]
  },
  {
   "cell_type": "markdown",
   "metadata": {},
   "source": [
    "# 4. Modules & Packages "
   ]
  },
  {
   "cell_type": "code",
   "execution_count": 7,
   "metadata": {},
   "outputs": [
    {
     "name": "stdout",
     "output_type": "stream",
     "text": [
      "Hello, Jitendra!\n"
     ]
    }
   ],
   "source": [
    "# mymodule.py \n",
    "def greet(name):\n",
    "    return f\"Hello, {name}!\"\n",
    "\n",
    "# main.py \n",
    "import mymodule  \n",
    "\n",
    "print(mymodule.greet(\"Jitendra\"))\n",
=======
    "for i in range(n):\n",
    "    \n",
    "    print(' '*(n-i), end='')\n",
    "    coef = 1\n",
    "    for j in range(0, i + 1):\n",
    "        print(coef, end=' ')\n",
    "        coef = coef * (i - j) // (j + 1)\n",
    "    print()\n",
>>>>>>> 6d26263 (Updated assignment files)
    "\n"
   ]
  },
  {
   "cell_type": "markdown",
   "id": "edef8610",
   "metadata": {},
   "source": [
<<<<<<< HEAD
    "# 4. Concurrency & Parallelism \n"
   ]
  },
  {
   "cell_type": "code",
   "execution_count": 8,
   "metadata": {},
   "outputs": [
    {
     "name": "stdout",
     "output_type": "stream",
     "text": [
      "Task One started\n",
      "Task Two started\n",
      "Task One finished\n",
      "Task Two finished\n",
      "Concurrency & Parallelism example finished!\n"
     ]
    }
   ],
   "source": [
    "import threading\n",
    "import time\n",
    "\n",
    "def task(name):\n",
    "    print(f\"Task {name} started\")\n",
    "    time.sleep(2)\n",
    "    print(f\"Task {name} finished\")\n",
    "\n",
    "\n",
    "thread1 = threading.Thread(target=task, args=(\"One\",))\n",
    "thread2 = threading.Thread(target=task, args=(\"Two\",))\n",
    "\n",
    "thread1.start()\n",
    "thread2.start()\n",
    "\n",
    "thread1.join()\n",
    "thread2.join()\n",
    "\n",
    "print(\"Concurrency & Parallelism example finished!\")\n"
=======
    "### 2. `continue` Statement in Loops"
>>>>>>> 6d26263 (Updated assignment files)
   ]
  },
  {
   "cell_type": "markdown",
   "id": "27cfb449",
   "metadata": {},
   "source": [
<<<<<<< HEAD
    "# 5. Context Switching\n"
=======
    "Explain how the `continue` statement works in a loop and write a program to print numbers divisible by 3 using `continue`. "
>>>>>>> 6d26263 (Updated assignment files)
   ]
  },
  {
   "cell_type": "code",
   "execution_count": null,
   "id": "3a8744ac",
   "metadata": {},
   "outputs": [],
   "source": [
    "\n",
    "numbers = list(range(1, 21))\n",
    "\n",
    "for num in numbers:\n",
    "    if num % 3 != 0:\n",
    "        continue\n",
    "    print(num)\n"
   ]
  },
  {
   "cell_type": "markdown",
   "id": "ae1c3685",
   "metadata": {},
   "source": [
<<<<<<< HEAD
    "# 6. Memory Isolation"
=======
    "### 3. Pythagorean Triplets"
   ]
  },
  {
   "cell_type": "markdown",
   "id": "cbcfb5d8",
   "metadata": {},
   "source": [
    "Use list comprehension to generate all Pythagorean triplets where a² + b² = c² and a, b, c ≤ 50."
>>>>>>> 6d26263 (Updated assignment files)
   ]
  },
  {
   "cell_type": "code",
   "execution_count": 1,
   "id": "64daca83",
   "metadata": {},
   "outputs": [
    {
     "name": "stdout",
     "output_type": "stream",
     "text": [
      "[(3, 4, 5), (5, 12, 13), (6, 8, 10), (7, 24, 25), (8, 15, 17), (9, 12, 15), (9, 40, 41), (10, 24, 26), (12, 16, 20), (12, 35, 37), (14, 48, 50), (15, 20, 25), (15, 36, 39), (16, 30, 34), (18, 24, 30), (20, 21, 29), (21, 28, 35), (24, 32, 40), (27, 36, 45), (30, 40, 50)]\n"
     ]
    }
   ],
   "source": [
    "\n",
    "triplets = [(a, b, c) for a in range(1, 51) for b in range(a, 51) for c in range(b, 51) if a**2 + b**2 == c**2]\n",
    "print(triplets)\n"
   ]
  },
  {
   "cell_type": "markdown",
   "id": "b7d88d22",
   "metadata": {},
   "source": [
    "### 4. Maximum Sum of Consecutive Elements"
   ]
  },
  {
   "cell_type": "code",
   "execution_count": null,
   "id": "caccb6ec",
   "metadata": {},
   "outputs": [],
   "source": [
    "\n",
    "def max_consecutive_sum(nums, k):\n",
    "    max_sum = sum(nums[:k])\n",
    "    current_sum = max_sum\n",
    "    \n",
    "    for i in range(len(nums) - k):\n",
    "        current_sum = current_sum - nums[i] + nums[i + k]\n",
    "        max_sum = max(max_sum, current_sum)\n",
    "    \n",
    "    return max_sum\n",
    "\n",
    "print(max_consecutive_sum([1, 2, 3, 4, 5, 6, 7, 8, 9], 3))\n"
   ]
  },
  {
   "cell_type": "markdown",
   "id": "44c0bdc3",
   "metadata": {},
   "source": [
    "### 5. Function Modifying a List"
   ]
  },
  {
   "cell_type": "code",
   "execution_count": null,
   "id": "04882b99",
   "metadata": {},
   "outputs": [],
   "source": [
    "\n",
    "def modify_list(lst):\n",
    "    lst.append(\"New Item\")\n",
    "\n",
    "my_list = [1, 2, 3]\n",
    "modify_list(my_list)\n",
    "print(my_list)\n"
   ]
  },
  {
   "cell_type": "markdown",
   "id": "75f3cb87",
   "metadata": {},
   "source": [
    "### 6. Fibonacci Sequence"
   ]
  },
  {
   "cell_type": "code",
   "execution_count": null,
   "id": "47652b8b",
   "metadata": {},
   "outputs": [],
   "source": [
    "\n",
    "def fibonacci(n):\n",
    "    fib_series = [0, 1]\n",
    "    for _ in range(n - 2):\n",
    "        fib_series.append(fib_series[-1] + fib_series[-2])\n",
    "    return fib_series\n",
    "\n",
    "n = int(input(\"Enter the number of terms: \"))\n",
    "print(fibonacci(n))\n"
   ]
  }
 ],
 "metadata": {
  "kernelspec": {
   "display_name": "base",
   "language": "python",
   "name": "python3"
  },
  "language_info": {
   "codemirror_mode": {
    "name": "ipython",
    "version": 3
   },
   "file_extension": ".py",
   "mimetype": "text/x-python",
   "name": "python",
   "nbconvert_exporter": "python",
   "pygments_lexer": "ipython3",
   "version": "3.12.4"
  }
 },
 "nbformat": 4,
 "nbformat_minor": 5
}
