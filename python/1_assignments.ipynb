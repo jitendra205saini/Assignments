{
 "cells": [
  {
   "cell_type": "markdown",
   "metadata": {},
   "source": ["## Assignment 1"]
  },
  {
   "cell_type": "markdown",
   "metadata": {},
   "source": ["### 1. Lists vs Tuples"]
  },
  {
   "cell_type": "code",
   "execution_count": null,
   "metadata": {},
   "outputs": [],
   "source": [
    "# Lists change ho sakti hain (mutable), Tuples nahi badal sakti (immutable).\n",
    "# Lists zyada flexible hain, par Tuples faster hote hain.\n",
    "my_list = [1, 2, 3]  # Mutable\n",
    "my_tuple = (1, 2, 3)  # Immutable\n",
    "my_list.append(4)  # List me value add kar sakte hain\n",
    "# my_tuple.append(4)  # Error aayega, kyunki tuples modify nahi hoti"
   ]
  },
  {
   "cell_type": "markdown",
   "metadata": {},
   "source": ["### 2. Type Conversion"]
  },
  {
   "cell_type": "code",
   "execution_count": null,
   "metadata": {},
   "outputs": [],
   "source": [
    "num = 10  # Integer\n",
    "float_num = float(num)  # Integer ko float me convert kiya\n",
    "\n",
    "string = '123'\n",
    "num_from_str = int(string)  # String ko integer me convert kiya\n",
    "\n",
    "print(float_num, num_from_str)"
   ]
  },
  {
   "cell_type": "markdown",
   "metadata": {},
   "source": ["### 3. += Operator ka Use"]
  },
  {
   "cell_type": "code",
   "execution_count": null,
   "metadata": {},
   "outputs": [],
   "source": [
    "num = 5\n",
    "num += 10  # num me 10 add kar diya\n",
    "print('Updated number:', num)"
   ]
  },
  {
   "cell_type": "markdown",
   "metadata": {},
   "source": ["### 4. Leap Year Check"]
  },
  {
   "cell_type": "code",
   "execution_count": null,
   "metadata": {},
   "outputs": [],
   "source": [
    "year = int(input('Enter a year: '))\n",
    "if (year % 4 == 0 and year % 100 != 0) or (year % 400 == 0):\n",
    "    print(year, 'is a Leap Year')\n",
    "else:\n",
    "    print(year, 'is not a Leap Year')"
   ]
  },
  {
   "cell_type": "markdown",
   "metadata": {},
   "source": ["### 5. Marks ke Basis par Grade"]
  },
  {
   "cell_type": "code",
   "execution_count": null,
   "metadata": {},
   "outputs": [],
   "source": [
    "marks = int(input('Enter your marks: '))\n",
    "\n",
    "if 90 <= marks <= 100:\n",
    "    print('Grade: A')\n",
    "elif 80 <= marks <= 89:\n",
    "    print('Grade: B')\n",
    "elif 70 <= marks <= 79:\n",
    "    print('Grade: C')\n",
    "elif 60 <= marks <= 69:\n",
    "    print('Grade: D')\n",
    "else:\n",
    "    print('Grade: F')"
   ]
  }
 ],
 "metadata": {
  "kernelspec": {
   "display_name": "Python 3",
   "language": "python",
   "name": "python3"
  },
  "language_info": {
   "codemirror_mode": {
    "name": "ipython",
    "version": 3
   },
   "file_extension": ".py",
   "mimetype": "text/x-python",
   "name": "python",
   "nbconvert_exporter": "python",
   "pygments_lexer": "ipython3",
   "version": "3.8.5"
  }
 }
}
